{
 "cells": [
  {
   "cell_type": "code",
   "execution_count": 1,
   "metadata": {},
   "outputs": [
    {
     "data": {
      "text/html": [
       "<pre style=\"white-space:pre;overflow-x:auto;line-height:normal;font-family:Menlo,'DejaVu Sans Mono',consolas,'Courier New',monospace\"></pre>\n"
      ],
      "text/plain": []
     },
     "metadata": {},
     "output_type": "display_data"
    }
   ],
   "source": [
    "from dj_notebook import activate\n",
    "\n",
    "plus = activate(\"book_store.settings\")"
   ]
  },
  {
   "cell_type": "code",
   "execution_count": 21,
   "metadata": {},
   "outputs": [
    {
     "data": {
      "text/html": [
       "<img src=\"https://mermaid.ink/img/CmZsb3djaGFydCBURAogICAgQihmcm9tIGRqX25vdGVib29rIGltcG9ydCBhY3RpdmF0ZSkKICAgIENbInBsdXMgPSBhY3RpdmF0ZSgpIl0KICAgIEQoInBsdXMubWVybWFpZChkaWFncmFtKSIpCiAgICBBW3BpcCBpbnN0YWxsIGRqLW5vdGVib29rXSAtLT58d2FpdCBhIGZldyBzZWNvbmRzfCBCCiAgICBCIC0uLT4gQwogICAgQyAtLi0+IEQK\"/>"
      ],
      "text/plain": [
       "<IPython.core.display.Image object>"
      ]
     },
     "metadata": {},
     "output_type": "display_data"
    }
   ],
   "source": [
    "diagram = \"\"\"\n",
    "flowchart TD\n",
    "    B(from dj_notebook import activate)\n",
    "    C[\"plus = activate()\"]\n",
    "    D(\"plus.mermaid(diagram)\")\n",
    "    A[pip install dj-notebook] -->|wait a few seconds| B\n",
    "    B -.-> C\n",
    "    C -.-> D\n",
    "\"\"\"\n",
    "\n",
    "plus.mermaid(diagram)"
   ]
  },
  {
   "cell_type": "code",
   "execution_count": null,
   "metadata": {},
   "outputs": [],
   "source": []
  }
 ],
 "metadata": {
  "kernelspec": {
   "display_name": "dj-notebook",
   "language": "python",
   "name": "python3"
  },
  "language_info": {
   "codemirror_mode": {
    "name": "ipython",
    "version": 3
   },
   "file_extension": ".py",
   "mimetype": "text/x-python",
   "name": "python",
   "nbconvert_exporter": "python",
   "pygments_lexer": "ipython3",
   "version": "3.10.6"
  },
  "orig_nbformat": 4
 },
 "nbformat": 4,
 "nbformat_minor": 2
}
