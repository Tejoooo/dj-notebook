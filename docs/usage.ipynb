{
 "cells": [
  {
   "cell_type": "markdown",
   "metadata": {},
   "source": [
    "# Usage\n",
    "\n",
    "Create an ipython notebook in the same directory as `manage.py`. In VSCode,\n",
    "simply add a new `.ipynb` file. If using Jupyter Lab, use the `File -> New ->\n",
    "Notebook` menu option. \n",
    "\n",
    "In the first cell type the following:\n",
    "\n",
    "```python\n",
    "\n",
    "from dj_notebook import activate\n",
    "\n",
    "plus = activate(\"DJANGO_SETTINGS_MODULE_VALUE\")\n",
    "```\n",
    "\n",
    "Then, find your project's `manage.py` file and open it. Copy whatever is being set to `DJANGO_SETTINGS_MODULE` as a string argument to `activate` function. \n",
    "\n",
    "See below for an example that works with dj-notebook's Django test project:   "
   ]
  },
  {
   "cell_type": "code",
   "execution_count": 2,
   "metadata": {
    "tags": [
     "remove-input"
    ]
   },
   "outputs": [],
   "source": [
    "# Special configuration\n",
    "import pathlib\n",
    "import sys\n",
    "\n",
    "# project base\n",
    "here = pathlib.Path(\".\").parent\n",
    "KRAKEN_ROOT = (here / \"..\" / \"tests\" / \"django_test_project\").resolve()\n",
    "sys.path.insert(0, str(KRAKEN_ROOT))"
   ]
  },
  {
   "cell_type": "code",
   "execution_count": 3,
   "metadata": {},
   "outputs": [],
   "source": [
    "from dj_notebook import activate\n",
    "\n",
    "# Find this in tests/django_test_project/manage.py\n",
    "# https://github.com/pydanny/dj-notebook/blob/main/tests/django_test_project/manage.py\n",
    "plus = activate(\"book_store.settings\")"
   ]
  },
  {
   "cell_type": "markdown",
   "metadata": {},
   "source": [
    "Now you can use the ORM:"
   ]
  },
  {
   "cell_type": "code",
   "execution_count": 4,
   "metadata": {},
   "outputs": [
    {
     "data": {
      "text/plain": [
       "<QuerySet [<User: Audrey>, <User: Daniel>]>"
      ]
     },
     "execution_count": 4,
     "metadata": {},
     "output_type": "execute_result"
    }
   ],
   "source": [
    "from django.contrib.auth import get_user_model\n",
    "\n",
    "User = get_user_model()\n",
    "\n",
    "# Clean up the users\n",
    "User.objects.all().delete()\n",
    "\n",
    "# Create some users\n",
    "User.objects.create_user(\"Audrey\")\n",
    "User.objects.create_user(\"Daniel\")\n",
    "\n",
    "# Query the users\n",
    "User.objects.all()"
   ]
  },
  {
   "cell_type": "markdown",
   "metadata": {},
   "source": [
    "## Usage Plus\n",
    "\n",
    "But wait, it gets better!\n",
    "\n",
    "When you activated the Django environment, you instantiated a variable called 'plus'. The 'plus' variable is an object that contains everything loaded from django-extensions' shell_plus. Here's a demonstration, let try running this snippet:"
   ]
  },
  {
   "cell_type": "code",
   "execution_count": 5,
   "metadata": {},
   "outputs": [
    {
     "data": {
      "text/plain": [
       "<QuerySet [<User: Audrey>, <User: Daniel>]>"
      ]
     },
     "execution_count": 5,
     "metadata": {},
     "output_type": "execute_result"
    }
   ],
   "source": [
    "plus.User.objects.all()"
   ]
  },
  {
   "cell_type": "markdown",
   "metadata": {},
   "source": [
    "Or this:"
   ]
  },
  {
   "cell_type": "code",
   "execution_count": 6,
   "metadata": {},
   "outputs": [
    {
     "name": "stdout",
     "output_type": "stream",
     "text": [
      "admin | log entry | Can add log entry\n",
      "admin | log entry | Can change log entry\n",
      "admin | log entry | Can delete log entry\n",
      "admin | log entry | Can view log entry\n",
      "auth | group | Can add group\n"
     ]
    }
   ],
   "source": [
    "for perm in plus.Permission.objects.all()[:5]:\n",
    "    print(perm)"
   ]
  },
  {
   "cell_type": "markdown",
   "metadata": {},
   "source": [
    "## Diagrams of Objects\n",
    "\n",
    "We're not done yet! \n",
    "\n",
    "We also provide a utility for introspection of classes, which can be useful in sophisticated project architectures. Let's see what happens when we use the `plus.diagram()` function:"
   ]
  },
  {
   "cell_type": "code",
   "execution_count": 7,
   "metadata": {},
   "outputs": [
    {
     "data": {
      "text/html": [
       "<img src=\"https://mermaid.ink/img/Y2xhc3NEaWFncmFtCiAgY2xhc3MgZGphbmdvX2NvbnRyaWJfYXV0aF9tb2RlbHNfUGVybWlzc2lvbnNNaXhpblsiZGphbmdvLmNvbnRyaWIuYXV0aC5tb2RlbHM6OlBlcm1pc3Npb25zTWl4aW4iXQogIGNsYXNzIGRqYW5nb19jb250cmliX2F1dGhfYmFzZV91c2VyX0Fic3RyYWN0QmFzZVVzZXJbImRqYW5nby5jb250cmliLmF1dGguYmFzZV91c2VyOjpBYnN0cmFjdEJhc2VVc2VyIl0KICBjbGFzcyBkamFuZ29fY29udHJpYl9hdXRoX21vZGVsc19Vc2VyWyJkamFuZ28uY29udHJpYi5hdXRoLm1vZGVsczo6VXNlciJdCiAgZGphbmdvX2RiX21vZGVsc19iYXNlX01vZGVsIDx8LS0gZGphbmdvX2NvbnRyaWJfYXV0aF9iYXNlX3VzZXJfQWJzdHJhY3RCYXNlVXNlcgogIGRqYW5nb19kYl9tb2RlbHNfYmFzZV9Nb2RlbCA8fC0tIGRqYW5nb19jb250cmliX2F1dGhfbW9kZWxzX1Blcm1pc3Npb25zTWl4aW4KICBkamFuZ29fY29udHJpYl9hdXRoX21vZGVsc19QZXJtaXNzaW9uc01peGluIDx8LS0gZGphbmdvX2NvbnRyaWJfYXV0aF9tb2RlbHNfQWJzdHJhY3RVc2VyCiAgZGphbmdvX2NvbnRyaWJfYXV0aF9iYXNlX3VzZXJfQWJzdHJhY3RCYXNlVXNlciA8fC0tIGRqYW5nb19jb250cmliX2F1dGhfbW9kZWxzX0Fic3RyYWN0VXNlcgogIGNsYXNzIGRqYW5nb19kYl9tb2RlbHNfdXRpbHNfQWx0ZXJzRGF0YVsiZGphbmdvLmRiLm1vZGVscy51dGlsczo6QWx0ZXJzRGF0YSJdCiAgZGphbmdvX2RiX21vZGVsc191dGlsc19BbHRlcnNEYXRhIDx8LS0gZGphbmdvX2RiX21vZGVsc19iYXNlX01vZGVsCiAgZGphbmdvX2NvbnRyaWJfYXV0aF9tb2RlbHNfQWJzdHJhY3RVc2VyIDx8LS0gZGphbmdvX2NvbnRyaWJfYXV0aF9tb2RlbHNfVXNlcgogIGNsYXNzIGRqYW5nb19jb250cmliX2F1dGhfbW9kZWxzX0Fic3RyYWN0VXNlclsiZGphbmdvLmNvbnRyaWIuYXV0aC5tb2RlbHM6OkFic3RyYWN0VXNlciJdCiAgY2xhc3MgZGphbmdvX2RiX21vZGVsc19iYXNlX01vZGVsWyJkamFuZ28uZGIubW9kZWxzLmJhc2U6Ok1vZGVsIl0=\"/>"
      ],
      "text/plain": [
       "<IPython.core.display.Image object>"
      ]
     },
     "metadata": {},
     "output_type": "display_data"
    }
   ],
   "source": [
    "plus.diagram(plus.User)"
   ]
  },
  {
   "cell_type": "markdown",
   "metadata": {},
   "source": [
    "# Data frames from QuerySets\n",
    "\n",
    "Powered by [django-pandas](https://github.com/chrisdev/django-pandas), we can also trivially turn any Django QuerySet into a Dataframe."
   ]
  },
  {
   "cell_type": "code",
   "execution_count": 9,
   "metadata": {},
   "outputs": [
    {
     "data": {
      "text/html": [
       "<div>\n",
       "<style scoped>\n",
       "    .dataframe tbody tr th:only-of-type {\n",
       "        vertical-align: middle;\n",
       "    }\n",
       "\n",
       "    .dataframe tbody tr th {\n",
       "        vertical-align: top;\n",
       "    }\n",
       "\n",
       "    .dataframe thead th {\n",
       "        text-align: right;\n",
       "    }\n",
       "</style>\n",
       "<table border=\"1\" class=\"dataframe\">\n",
       "  <thead>\n",
       "    <tr style=\"text-align: right;\">\n",
       "      <th></th>\n",
       "      <th>id</th>\n",
       "      <th>password</th>\n",
       "      <th>last_login</th>\n",
       "      <th>is_superuser</th>\n",
       "      <th>username</th>\n",
       "      <th>first_name</th>\n",
       "      <th>last_name</th>\n",
       "      <th>email</th>\n",
       "      <th>is_staff</th>\n",
       "      <th>is_active</th>\n",
       "      <th>date_joined</th>\n",
       "    </tr>\n",
       "  </thead>\n",
       "  <tbody>\n",
       "    <tr>\n",
       "      <th>0</th>\n",
       "      <td>26</td>\n",
       "      <td>!gqoQESZIz43EXIcxrKzFKm5BaYBSqgoYykZUyv8v</td>\n",
       "      <td>None</td>\n",
       "      <td>False</td>\n",
       "      <td>Audrey</td>\n",
       "      <td></td>\n",
       "      <td></td>\n",
       "      <td></td>\n",
       "      <td>False</td>\n",
       "      <td>True</td>\n",
       "      <td>2023-10-03 10:20:05.539784+00:00</td>\n",
       "    </tr>\n",
       "    <tr>\n",
       "      <th>1</th>\n",
       "      <td>27</td>\n",
       "      <td>!PiFAACxsvwe5L8rMVNyIqaL26AK9EHVI6vEixkw4</td>\n",
       "      <td>None</td>\n",
       "      <td>False</td>\n",
       "      <td>Daniel</td>\n",
       "      <td></td>\n",
       "      <td></td>\n",
       "      <td></td>\n",
       "      <td>False</td>\n",
       "      <td>True</td>\n",
       "      <td>2023-10-03 10:20:05.541464+00:00</td>\n",
       "    </tr>\n",
       "  </tbody>\n",
       "</table>\n",
       "</div>"
      ],
      "text/plain": [
       "   id                                   password last_login  is_superuser  \\\n",
       "0  26  !gqoQESZIz43EXIcxrKzFKm5BaYBSqgoYykZUyv8v       None         False   \n",
       "1  27  !PiFAACxsvwe5L8rMVNyIqaL26AK9EHVI6vEixkw4       None         False   \n",
       "\n",
       "  username first_name last_name email  is_staff  is_active  \\\n",
       "0   Audrey                                False       True   \n",
       "1   Daniel                                False       True   \n",
       "\n",
       "                       date_joined  \n",
       "0 2023-10-03 10:20:05.539784+00:00  \n",
       "1 2023-10-03 10:20:05.541464+00:00  "
      ]
     },
     "execution_count": 9,
     "metadata": {},
     "output_type": "execute_result"
    }
   ],
   "source": [
    "plus.read_frame(plus.User.objects.all())"
   ]
  }
 ],
 "metadata": {
  "kernelspec": {
   "display_name": "dj-notebook",
   "language": "python",
   "name": "python3"
  },
  "language_info": {
   "codemirror_mode": {
    "name": "ipython",
    "version": 3
   },
   "file_extension": ".py",
   "mimetype": "text/x-python",
   "name": "python",
   "nbconvert_exporter": "python",
   "pygments_lexer": "ipython3",
   "version": "3.10.6"
  },
  "orig_nbformat": 4
 },
 "nbformat": 4,
 "nbformat_minor": 2
}
